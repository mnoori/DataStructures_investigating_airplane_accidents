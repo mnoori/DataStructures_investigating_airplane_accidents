{
 "cells": [
  {
   "cell_type": "code",
   "execution_count": 81,
   "metadata": {
    "collapsed": true
   },
   "outputs": [],
   "source": [
    "import time"
   ]
  },
  {
   "cell_type": "code",
   "execution_count": 91,
   "metadata": {},
   "outputs": [
    {
     "name": "stdout",
     "output_type": "stream",
     "text": [
      "time took for this operation: 0.536  seconds\n"
     ]
    }
   ],
   "source": [
    "a=time.time()\n",
    "# open AviationData.txt, and read each line into a list.\n",
    "aviation_data=[s for s in open('AviationData.txt','r')]\n",
    "\n",
    "#Loop through each item in aviation_data, and split it on the | character.\n",
    "aviation_list=[s.split(\" | \") for s in aviation_data]\n",
    "\n",
    "# Search through aviation_list for LAX94LA336 -- this value could be in any column in any row.\n",
    "lax_code=[row for row in aviation_list if 'LAX94LA336' in row]\n",
    "print('time took for this operation:', round(time.time()-a,3),' seconds')"
   ]
  },
  {
   "cell_type": "markdown",
   "metadata": {},
   "source": [
    "This algorithm took exponential time, because it has to loop through each row, then each column inside that row."
   ]
  },
  {
   "cell_type": "code",
   "execution_count": 93,
   "metadata": {},
   "outputs": [
    {
     "name": "stdout",
     "output_type": "stream",
     "text": [
      "time took for this operation: 0.072  seconds\n"
     ]
    }
   ],
   "source": [
    "# More efficient\n",
    "a=time.time()\n",
    "lax_line=[x.split(\" | \") for x in open('AviationData.txt','r') if 'LAX94LA336' in x]\n",
    "print('time took for this operation:', round(time.time()-a,3),' seconds')"
   ]
  },
  {
   "cell_type": "code",
   "execution_count": 103,
   "metadata": {},
   "outputs": [
    {
     "name": "stdout",
     "output_type": "stream",
     "text": [
      "time took for this operation: 0.643  seconds\n"
     ]
    }
   ],
   "source": [
    "# Hash Tables\n",
    "a=time.time()\n",
    "headers=aviation_data[0].split(\" | \")\n",
    "aviation_dict_list=[dict(zip(headers,row.split(\" | \"))) for row in aviation_data[1:]]\n",
    "lax_dict=[row for row in aviation_dict_list if 'LAX94LA336' in row.values()]\n",
    "print('time took for this operation:', round(time.time()-a,3),' seconds')"
   ]
  },
  {
   "cell_type": "markdown",
   "metadata": {},
   "source": [
    "#### Finding most state accidents"
   ]
  },
  {
   "cell_type": "code",
   "execution_count": 112,
   "metadata": {},
   "outputs": [
    {
     "name": "stdout",
     "output_type": "stream",
     "text": [
      "[('CA', 8032), ('FL', 5118), ('TX', 5112), ('AK', 5049), ('AZ', 2502)]\n",
      "time took for this operation: 0.059  seconds\n"
     ]
    }
   ],
   "source": [
    "from collections import Counter\n",
    "\n",
    "a=time.time()\n",
    "def most_accidents_state(data):\n",
    "    state_accidents=[]\n",
    "    for x in range(len(data)):\n",
    "        state_accidents.append(data[x]['Location'][-2:])\n",
    "    state_count=Counter(state_accidents)\n",
    "    return state_count.most_common(5)\n",
    "\n",
    "print(most_accidents_state(aviation_dict_list))\n",
    "print('time took for this operation:', round(time.time()-a,3),' seconds')"
   ]
  },
  {
   "cell_type": "code",
   "execution_count": 117,
   "metadata": {},
   "outputs": [
    {
     "data": {
      "text/plain": [
       "'CA'"
      ]
     },
     "execution_count": 117,
     "metadata": {},
     "output_type": "execute_result"
    }
   ],
   "source": [
    "# Another implementation\n",
    "accident_list={}\n",
    "def second_implementation(data):\n",
    "    for x in range(len(data)):\n",
    "        state=data[x]['Location'][-2:]\n",
    "        if state in accident_list:\n",
    "            accident_list[state]=accident_list[state]+1\n",
    "        else:\n",
    "            accident_list[state]=1\n",
    "    return accident_list\n",
    "#second_implementation(aviation_dict_list)\n",
    "max(second_implementation(aviation_dict_list), key=second_implementation(aviation_dict_list).get)"
   ]
  }
 ],
 "metadata": {
  "kernelspec": {
   "display_name": "Python 3",
   "language": "python",
   "name": "python3"
  },
  "language_info": {
   "codemirror_mode": {
    "name": "ipython",
    "version": 3
   },
   "file_extension": ".py",
   "mimetype": "text/x-python",
   "name": "python",
   "nbconvert_exporter": "python",
   "pygments_lexer": "ipython3",
   "version": "3.6.3"
  }
 },
 "nbformat": 4,
 "nbformat_minor": 2
}
